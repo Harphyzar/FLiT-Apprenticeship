{
 "cells": [
  {
   "cell_type": "markdown",
   "id": "a3396a2a",
   "metadata": {},
   "source": [
    "# 1. Title: Market Basket Analysis of E- Commerce Dataset"
   ]
  },
  {
   "cell_type": "markdown",
   "id": "cd9f34d1",
   "metadata": {},
   "source": [
    "### Introduction:\n",
    "\n",
    "This project focuses on conducting a comprehensive analysis of the an E-commerce dataset to extract valuable insights into customer purchasing behavior. The primary objectives encompass uncovering patterns in product associations and deriving actionable insights to optimize sales and customer satisfaction for the retail company.\n",
    "\n",
    "#### Problem Statement:\n",
    "\n",
    "The aims is to understand the relationships between products frequently purchased together by customers. The goal is to leverage these associations to make informed business decisions and enhance overall performance.\n",
    "\n",
    "#### Objectives of the Analysis:\n",
    "\n",
    "1. Explore the dataset to identify patterns and associations in customer purchasing behavior.\n",
    "2. Conduct market basket analysis to reveal frequent product combinations.\n",
    "3. Provide actionable insights for the retail company to optimize sales strategies and enhance customer satisfaction.\n",
    "   \n",
    "#### Background Information:\n",
    "\n",
    "The dataset provided contains transactional records capturing Member ID, purchase dates, and item descriptions. By leveraging this dataset, the analysis aims to uncover valuable insights that will aid in making data-driven decisions for the retail business.\n"
   ]
  },
  {
   "cell_type": "markdown",
   "id": "e4078053",
   "metadata": {},
   "source": [
    " ## 2. Import necessary libraries"
   ]
  },
  {
   "cell_type": "code",
   "execution_count": 33,
   "id": "694ad9ae",
   "metadata": {},
   "outputs": [],
   "source": [
    "import pandas as pd\n",
    "import matplotlib.pyplot as plt\n",
    "import seaborn as sns\n",
    "from mlxtend.frequent_patterns import apriori\n",
    "from mlxtend.frequent_patterns import association_rules\n",
    "import networkx as nx\n"
   ]
  },
  {
   "cell_type": "markdown",
   "id": "9cdecae6",
   "metadata": {},
   "source": [
    "# 3. Loading the Market Basket dataset."
   ]
  },
  {
   "cell_type": "code",
   "execution_count": 2,
   "id": "f2506ed5",
   "metadata": {},
   "outputs": [
    {
     "data": {
      "text/html": [
       "<div>\n",
       "<style scoped>\n",
       "    .dataframe tbody tr th:only-of-type {\n",
       "        vertical-align: middle;\n",
       "    }\n",
       "\n",
       "    .dataframe tbody tr th {\n",
       "        vertical-align: top;\n",
       "    }\n",
       "\n",
       "    .dataframe thead th {\n",
       "        text-align: right;\n",
       "    }\n",
       "</style>\n",
       "<table border=\"1\" class=\"dataframe\">\n",
       "  <thead>\n",
       "    <tr style=\"text-align: right;\">\n",
       "      <th></th>\n",
       "      <th>Member_number</th>\n",
       "      <th>Date</th>\n",
       "      <th>itemDescription</th>\n",
       "    </tr>\n",
       "  </thead>\n",
       "  <tbody>\n",
       "    <tr>\n",
       "      <th>0</th>\n",
       "      <td>1808</td>\n",
       "      <td>21-07-2015</td>\n",
       "      <td>tropical fruit</td>\n",
       "    </tr>\n",
       "    <tr>\n",
       "      <th>1</th>\n",
       "      <td>2552</td>\n",
       "      <td>05-01-2015</td>\n",
       "      <td>whole milk</td>\n",
       "    </tr>\n",
       "    <tr>\n",
       "      <th>2</th>\n",
       "      <td>2300</td>\n",
       "      <td>19-09-2015</td>\n",
       "      <td>pip fruit</td>\n",
       "    </tr>\n",
       "    <tr>\n",
       "      <th>3</th>\n",
       "      <td>1187</td>\n",
       "      <td>12-12-2015</td>\n",
       "      <td>other vegetables</td>\n",
       "    </tr>\n",
       "    <tr>\n",
       "      <th>4</th>\n",
       "      <td>3037</td>\n",
       "      <td>01-02-2015</td>\n",
       "      <td>whole milk</td>\n",
       "    </tr>\n",
       "  </tbody>\n",
       "</table>\n",
       "</div>"
      ],
      "text/plain": [
       "   Member_number        Date   itemDescription\n",
       "0           1808  21-07-2015    tropical fruit\n",
       "1           2552  05-01-2015        whole milk\n",
       "2           2300  19-09-2015         pip fruit\n",
       "3           1187  12-12-2015  other vegetables\n",
       "4           3037  01-02-2015        whole milk"
      ]
     },
     "execution_count": 2,
     "metadata": {},
     "output_type": "execute_result"
    }
   ],
   "source": [
    "df = pd.read_csv('Market Basket Analysis - Groceries_dataset.csv') #Loading the dataset\n",
    "\n",
    "df.head() # Display the DataFrame"
   ]
  },
  {
   "cell_type": "markdown",
   "id": "8be7b055",
   "metadata": {},
   "source": [
    "#  4. Data Preparation"
   ]
  },
  {
   "cell_type": "code",
   "execution_count": 3,
   "id": "240b6dfb",
   "metadata": {},
   "outputs": [
    {
     "name": "stdout",
     "output_type": "stream",
     "text": [
      "<class 'pandas.core.frame.DataFrame'>\n",
      "RangeIndex: 38765 entries, 0 to 38764\n",
      "Data columns (total 3 columns):\n",
      " #   Column           Non-Null Count  Dtype \n",
      "---  ------           --------------  ----- \n",
      " 0   Member_number    38765 non-null  int64 \n",
      " 1   Date             38765 non-null  object\n",
      " 2   itemDescription  38765 non-null  object\n",
      "dtypes: int64(1), object(2)\n",
      "memory usage: 908.7+ KB\n",
      "None\n",
      "Member_number      0\n",
      "Date               0\n",
      "itemDescription    0\n",
      "dtype: int64\n"
     ]
    }
   ],
   "source": [
    "#Exploring the structure of the dataset\n",
    "print(df.info())\n",
    "\n",
    "# Convertingthe 'Date' column to a datetime object\n",
    "df['Date'] = pd.to_datetime(df['Date'], format='%d-%m-%Y')\n",
    "\n",
    "# Checking for missing values\n",
    "print(df.isnull().sum())\n"
   ]
  },
  {
   "cell_type": "markdown",
   "id": "f31860e4",
   "metadata": {},
   "source": [
    "# 5. Exploratory Data Analysis (EDA) "
   ]
  },
  {
   "cell_type": "code",
   "execution_count": 4,
   "id": "bf20f217",
   "metadata": {
    "scrolled": true
   },
   "outputs": [
    {
     "name": "stdout",
     "output_type": "stream",
     "text": [
      "       Member_number\n",
      "count   38765.000000\n",
      "mean     3003.641868\n",
      "std      1153.611031\n",
      "min      1000.000000\n",
      "25%      2002.000000\n",
      "50%      3005.000000\n",
      "75%      4007.000000\n",
      "max      5000.000000\n"
     ]
    }
   ],
   "source": [
    "# Basic statistics\n",
    "print(df.describe())\n"
   ]
  },
  {
   "cell_type": "code",
   "execution_count": 8,
   "id": "cbdf2de3",
   "metadata": {
    "scrolled": true
   },
   "outputs": [
    {
     "name": "stdout",
     "output_type": "stream",
     "text": [
      "There are 167 unique items in this data\n"
     ]
    }
   ],
   "source": [
    "#Number of unique items\n",
    "print(\"There are\", df['itemDescription'].nunique(), \"unique items in this data\")"
   ]
  },
  {
   "cell_type": "code",
   "execution_count": 9,
   "id": "51c11d0e",
   "metadata": {},
   "outputs": [
    {
     "data": {
      "image/png": "[encoded data removed]",
      "text/plain": [
       "<Figure size 720x432 with 1 Axes>"
      ]
     },
     "metadata": {
      "needs_background": "light"
     },
     "output_type": "display_data"
    }
   ],
   "source": [
    "# Exploring the top N items, to know items that are bought the most \n",
    "top_items = df['itemDescription'].value_counts().head(10)\n",
    "plt.figure(figsize=(10, 6))\n",
    "sns.barplot(x=top_items.values, y=top_items.index, palette='viridis')\n",
    "plt.title('Top 10 Most Purchased Items')\n",
    "plt.xlabel('Number of Purchases')\n",
    "plt.ylabel('Item')\n",
    "plt.show()"
   ]
  },
  {
   "cell_type": "markdown",
   "id": "0108d85e",
   "metadata": {},
   "source": [
    " **This shows the distribution of the top 10 items that is most purchased and their corresponding purchase counts. \n",
    " Whole milk is the most purchased item followed by other vegetable and then roll buns.**"
   ]
  },
  {
   "cell_type": "code",
   "execution_count": 10,
   "id": "c73364dc",
   "metadata": {},
   "outputs": [
    {
     "data": {
      "text/plain": [
       "whole milk          2502\n",
       "other vegetables    1898\n",
       "rolls/buns          1716\n",
       "soda                1514\n",
       "yogurt              1334\n",
       "Name: itemDescription, dtype: int64"
      ]
     },
     "execution_count": 10,
     "metadata": {},
     "output_type": "execute_result"
    }
   ],
   "source": [
    "top10 = df[\"itemDescription\"].value_counts().head()\n",
    "top10"
   ]
  },
  {
   "cell_type": "code",
   "execution_count": 7,
   "id": "22bcf65e",
   "metadata": {
    "scrolled": true
   },
   "outputs": [
    {
     "data": {
      "image/png": "[encoded data removed]",
      "text/plain": [
       "<Figure size 720x432 with 1 Axes>"
      ]
     },
     "metadata": {
      "needs_background": "light"
     },
     "output_type": "display_data"
    }
   ],
   "source": [
    "# Exploring the base N items, to know items that are bought the least.\n",
    "\n",
    "top_items = df['itemDescription'].value_counts().tail(10)\n",
    "plt.figure(figsize=(10, 6))\n",
    "sns.barplot(x=top_items.values, y=top_items.index, palette='viridis')\n",
    "plt.title('Top 10 least Purchased Items')\n",
    "plt.xlabel('Number of Purchases')\n",
    "plt.ylabel('Item')\n",
    "plt.show()"
   ]
  },
  {
   "cell_type": "markdown",
   "id": "cd2ad9b6",
   "metadata": {},
   "source": [
    "**The least purchased items are preservation products, kitchen utensils and baby cosmetics**"
   ]
  },
  {
   "cell_type": "code",
   "execution_count": 12,
   "id": "799b4f51",
   "metadata": {},
   "outputs": [
    {
     "data": {
      "text/plain": [
       "rubbing alcohol          5\n",
       "bags                     4\n",
       "baby cosmetics           3\n",
       "kitchen utensil          1\n",
       "preservation products    1\n",
       "Name: itemDescription, dtype: int64"
      ]
     },
     "execution_count": 12,
     "metadata": {},
     "output_type": "execute_result"
    }
   ],
   "source": [
    "least10 = df[\"itemDescription\"].value_counts().tail()\n",
    "least10"
   ]
  },
  {
   "cell_type": "code",
   "execution_count": 9,
   "id": "5be70672",
   "metadata": {},
   "outputs": [
    {
     "name": "stdout",
     "output_type": "stream",
     "text": [
      "Number of unique customers: 3898\n"
     ]
    }
   ],
   "source": [
    "# Exploring the number of unique members/ customers that has visited the store.\n",
    "print(\"Number of unique customers:\", df['Member_number'].nunique())"
   ]
  },
  {
   "cell_type": "code",
   "execution_count": null,
   "id": "f9cdf7fe",
   "metadata": {},
   "outputs": [],
   "source": []
  },
  {
   "cell_type": "code",
   "execution_count": 13,
   "id": "84cab388",
   "metadata": {},
   "outputs": [
    {
     "data": {
      "image/png": "[encoded data removed]",
      "text/plain": [
       "<Figure size 864x432 with 1 Axes>"
      ]
     },
     "metadata": {
      "needs_background": "light"
     },
     "output_type": "display_data"
    }
   ],
   "source": [
    "# Member-wise transaction count to know the amount of transaction carried out by each customer\n",
    "member_transaction_count = df.groupby('Member_number').size()\n",
    "\n",
    "# Visualizing the member-wise transactions using histogram\n",
    "plt.figure(figsize=(12, 6))\n",
    "sns.histplot(member_transaction_count, bins=50, kde=True, color='skyblue')\n",
    "plt.title('Distribution of Member-wise Transactions')\n",
    "plt.xlabel('Number of Transactions')\n",
    "plt.ylabel('Frequency')\n",
    "plt.show()"
   ]
  },
  {
   "cell_type": "markdown",
   "id": "9a378550",
   "metadata": {},
   "source": [
    "**A larger number of members make  few purchases while we have very few heavy purchasers among them.The category of members who shopped 5 times ranged from 175-370 member, while the heaviest shoppers who have shopped for more than 35 times are less than 10.**"
   ]
  },
  {
   "cell_type": "markdown",
   "id": "337f0158",
   "metadata": {},
   "source": [
    "### Extracting 'Year','Month','Day', and 'Weekday' from the DataFrame to be used for further analysis."
   ]
  },
  {
   "cell_type": "code",
   "execution_count": 14,
   "id": "bd5879d2",
   "metadata": {},
   "outputs": [],
   "source": [
    "# Extracting time-based features\n",
    "df['Year'] = df['Date'].dt.year\n",
    "df['Month'] = df['Date'].dt.month\n",
    "df['Day'] = df['Date'].dt.day\n",
    "df['Weekday'] = df['Date'].dt.weekday  # Monday=0, Sunday=6"
   ]
  },
  {
   "cell_type": "code",
   "execution_count": 15,
   "id": "8a9d14d2",
   "metadata": {},
   "outputs": [
    {
     "data": {
      "image/png": "[encoded data removed]",
      "text/plain": [
       "<Figure size 864x432 with 1 Axes>"
      ]
     },
     "metadata": {
      "needs_background": "light"
     },
     "output_type": "display_data"
    }
   ],
   "source": [
    "# Exploring the Monthly number of transactions.\n",
    "monthly_transaction_count = df.groupby(['Year', 'Month']).size()\n",
    "\n",
    "# Visualize the trend of transactions over time\n",
    "plt.figure(figsize=(12, 6))\n",
    "monthly_transaction_count.plot(kind='bar', color='teal')\n",
    "plt.title('Monthly Transaction Count Over Time')\n",
    "plt.xlabel('Year-Month')\n",
    "plt.ylabel('Transaction Count')\n",
    "plt.xticks(rotation=45)\n",
    "plt.show()\n"
   ]
  },
  {
   "cell_type": "markdown",
   "id": "00a86c87",
   "metadata": {},
   "source": [
    "**The highest sales transaction occurred in August 2015, followed by January 2015.**"
   ]
  },
  {
   "cell_type": "code",
   "execution_count": 13,
   "id": "34a9475e",
   "metadata": {
    "scrolled": true
   },
   "outputs": [
    {
     "data": {
      "image/png": "[encoded data removed]",
      "text/plain": [
       "<Figure size 864x432 with 1 Axes>"
      ]
     },
     "metadata": {
      "needs_background": "light"
     },
     "output_type": "display_data"
    }
   ],
   "source": [
    "# Monthly transaction count\n",
    "monthly_transaction_count = df.groupby(['Year', 'Month']).size().reset_index(name='Transaction_Count')\n",
    "\n",
    "# Visualize monthly purchase patterns\n",
    "plt.figure(figsize=(12, 6))\n",
    "sns.lineplot(data=monthly_transaction_count, x='Month', y='Transaction_Count', hue='Year', marker='o', palette='Set2')\n",
    "plt.title('Monthly Purchase Patterns Over Years')\n",
    "plt.xlabel('Month')\n",
    "plt.ylabel('Transaction Count')\n",
    "plt.legend(title='Year')\n",
    "plt.show()\n"
   ]
  },
  {
   "cell_type": "markdown",
   "id": "4810276a",
   "metadata": {},
   "source": [
    "**In the year 2014,the month with the highest purchase was MAY, while in the Year 2015, August is the month with the highest purchase count.**"
   ]
  },
  {
   "cell_type": "code",
   "execution_count": 16,
   "id": "bea16fe8",
   "metadata": {},
   "outputs": [
    {
     "data": {
      "image/png": "[encoded data removed]",
      "text/plain": [
       "<Figure size 720x432 with 1 Axes>"
      ]
     },
     "metadata": {
      "needs_background": "light"
     },
     "output_type": "display_data"
    }
   ],
   "source": [
    "# Weekday-wise transaction count\n",
    "weekday_transaction_count = df.groupby('Weekday').size()\n",
    "\n",
    "# Map weekdays for better visualization\n",
    "weekday_map = {0: 'Monday', 1: 'Tuesday', 2: 'Wednesday', 3: 'Thursday', 4: 'Friday', 5: 'Saturday', 6: 'Sunday'}\n",
    "weekday_transaction_count.index = weekday_transaction_count.index.map(weekday_map)\n",
    "\n",
    "# Visualize weekday-wise transactions\n",
    "plt.figure(figsize=(10, 6))\n",
    "sns.barplot(x=weekday_transaction_count.index, y=weekday_transaction_count.values, palette='mako')\n",
    "plt.title('Weekday-wise Transaction Distribution')\n",
    "plt.xlabel('Weekdays')\n",
    "plt.ylabel('Transaction Count')\n",
    "plt.show()"
   ]
  },
  {
   "cell_type": "markdown",
   "id": "1ed2badf",
   "metadata": {},
   "source": [
    "**All through through the years(2014 and 2015), Thursday has the highest number of transactions.**"
   ]
  },
  {
   "cell_type": "code",
   "execution_count": 17,
   "id": "b7bf2850",
   "metadata": {},
   "outputs": [
    {
     "data": {
      "text/html": [
       "<div>\n",
       "<style scoped>\n",
       "    .dataframe tbody tr th:only-of-type {\n",
       "        vertical-align: middle;\n",
       "    }\n",
       "\n",
       "    .dataframe tbody tr th {\n",
       "        vertical-align: top;\n",
       "    }\n",
       "\n",
       "    .dataframe thead th {\n",
       "        text-align: right;\n",
       "    }\n",
       "</style>\n",
       "<table border=\"1\" class=\"dataframe\">\n",
       "  <thead>\n",
       "    <tr style=\"text-align: right;\">\n",
       "      <th></th>\n",
       "      <th>Member_number</th>\n",
       "      <th>Date</th>\n",
       "      <th>itemDescription</th>\n",
       "      <th>Year</th>\n",
       "      <th>Month</th>\n",
       "      <th>Day</th>\n",
       "      <th>Weekday</th>\n",
       "    </tr>\n",
       "  </thead>\n",
       "  <tbody>\n",
       "    <tr>\n",
       "      <th>0</th>\n",
       "      <td>1808</td>\n",
       "      <td>2015-07-21</td>\n",
       "      <td>tropical fruit</td>\n",
       "      <td>2015</td>\n",
       "      <td>7</td>\n",
       "      <td>21</td>\n",
       "      <td>1</td>\n",
       "    </tr>\n",
       "    <tr>\n",
       "      <th>1</th>\n",
       "      <td>2552</td>\n",
       "      <td>2015-01-05</td>\n",
       "      <td>whole milk</td>\n",
       "      <td>2015</td>\n",
       "      <td>1</td>\n",
       "      <td>5</td>\n",
       "      <td>0</td>\n",
       "    </tr>\n",
       "    <tr>\n",
       "      <th>2</th>\n",
       "      <td>2300</td>\n",
       "      <td>2015-09-19</td>\n",
       "      <td>pip fruit</td>\n",
       "      <td>2015</td>\n",
       "      <td>9</td>\n",
       "      <td>19</td>\n",
       "      <td>5</td>\n",
       "    </tr>\n",
       "    <tr>\n",
       "      <th>3</th>\n",
       "      <td>1187</td>\n",
       "      <td>2015-12-12</td>\n",
       "      <td>other vegetables</td>\n",
       "      <td>2015</td>\n",
       "      <td>12</td>\n",
       "      <td>12</td>\n",
       "      <td>5</td>\n",
       "    </tr>\n",
       "    <tr>\n",
       "      <th>4</th>\n",
       "      <td>3037</td>\n",
       "      <td>2015-02-01</td>\n",
       "      <td>whole milk</td>\n",
       "      <td>2015</td>\n",
       "      <td>2</td>\n",
       "      <td>1</td>\n",
       "      <td>6</td>\n",
       "    </tr>\n",
       "    <tr>\n",
       "      <th>5</th>\n",
       "      <td>4941</td>\n",
       "      <td>2015-02-14</td>\n",
       "      <td>rolls/buns</td>\n",
       "      <td>2015</td>\n",
       "      <td>2</td>\n",
       "      <td>14</td>\n",
       "      <td>5</td>\n",
       "    </tr>\n",
       "    <tr>\n",
       "      <th>6</th>\n",
       "      <td>4501</td>\n",
       "      <td>2015-05-08</td>\n",
       "      <td>other vegetables</td>\n",
       "      <td>2015</td>\n",
       "      <td>5</td>\n",
       "      <td>8</td>\n",
       "      <td>4</td>\n",
       "    </tr>\n",
       "    <tr>\n",
       "      <th>7</th>\n",
       "      <td>3803</td>\n",
       "      <td>2015-12-23</td>\n",
       "      <td>pot plants</td>\n",
       "      <td>2015</td>\n",
       "      <td>12</td>\n",
       "      <td>23</td>\n",
       "      <td>2</td>\n",
       "    </tr>\n",
       "    <tr>\n",
       "      <th>8</th>\n",
       "      <td>2762</td>\n",
       "      <td>2015-03-20</td>\n",
       "      <td>whole milk</td>\n",
       "      <td>2015</td>\n",
       "      <td>3</td>\n",
       "      <td>20</td>\n",
       "      <td>4</td>\n",
       "    </tr>\n",
       "    <tr>\n",
       "      <th>9</th>\n",
       "      <td>4119</td>\n",
       "      <td>2015-02-12</td>\n",
       "      <td>tropical fruit</td>\n",
       "      <td>2015</td>\n",
       "      <td>2</td>\n",
       "      <td>12</td>\n",
       "      <td>3</td>\n",
       "    </tr>\n",
       "  </tbody>\n",
       "</table>\n",
       "</div>"
      ],
      "text/plain": [
       "   Member_number       Date   itemDescription  Year  Month  Day  Weekday\n",
       "0           1808 2015-07-21    tropical fruit  2015      7   21        1\n",
       "1           2552 2015-01-05        whole milk  2015      1    5        0\n",
       "2           2300 2015-09-19         pip fruit  2015      9   19        5\n",
       "3           1187 2015-12-12  other vegetables  2015     12   12        5\n",
       "4           3037 2015-02-01        whole milk  2015      2    1        6\n",
       "5           4941 2015-02-14        rolls/buns  2015      2   14        5\n",
       "6           4501 2015-05-08  other vegetables  2015      5    8        4\n",
       "7           3803 2015-12-23        pot plants  2015     12   23        2\n",
       "8           2762 2015-03-20        whole milk  2015      3   20        4\n",
       "9           4119 2015-02-12    tropical fruit  2015      2   12        3"
      ]
     },
     "execution_count": 17,
     "metadata": {},
     "output_type": "execute_result"
    }
   ],
   "source": [
    "df.head(10)"
   ]
  },
  {
   "cell_type": "markdown",
   "id": "347b20a9",
   "metadata": {},
   "source": [
    "# 6. Market Basket Analysis"
   ]
  },
  {
   "cell_type": "markdown",
   "id": "e0d4a43e",
   "metadata": {},
   "source": [
    "#### Preparing Data for Association Rule Mining"
   ]
  },
  {
   "cell_type": "code",
   "execution_count": 21,
   "id": "a0d57068",
   "metadata": {},
   "outputs": [
    {
     "data": {
      "text/html": [
       "<div>\n",
       "<style scoped>\n",
       "    .dataframe tbody tr th:only-of-type {\n",
       "        vertical-align: middle;\n",
       "    }\n",
       "\n",
       "    .dataframe tbody tr th {\n",
       "        vertical-align: top;\n",
       "    }\n",
       "\n",
       "    .dataframe thead th {\n",
       "        text-align: right;\n",
       "    }\n",
       "</style>\n",
       "<table border=\"1\" class=\"dataframe\">\n",
       "  <thead>\n",
       "    <tr style=\"text-align: right;\">\n",
       "      <th></th>\n",
       "      <th>Member_number</th>\n",
       "      <th>Date</th>\n",
       "      <th>itemDescription</th>\n",
       "      <th>Year</th>\n",
       "      <th>Month</th>\n",
       "      <th>Day</th>\n",
       "      <th>Weekday</th>\n",
       "      <th>single_transaction</th>\n",
       "    </tr>\n",
       "  </thead>\n",
       "  <tbody>\n",
       "    <tr>\n",
       "      <th>0</th>\n",
       "      <td>1808</td>\n",
       "      <td>2015-07-21</td>\n",
       "      <td>tropical fruit</td>\n",
       "      <td>2015</td>\n",
       "      <td>7</td>\n",
       "      <td>21</td>\n",
       "      <td>1</td>\n",
       "      <td>1808_2015-07-21</td>\n",
       "    </tr>\n",
       "    <tr>\n",
       "      <th>1</th>\n",
       "      <td>2552</td>\n",
       "      <td>2015-01-05</td>\n",
       "      <td>whole milk</td>\n",
       "      <td>2015</td>\n",
       "      <td>1</td>\n",
       "      <td>5</td>\n",
       "      <td>0</td>\n",
       "      <td>2552_2015-01-05</td>\n",
       "    </tr>\n",
       "    <tr>\n",
       "      <th>2</th>\n",
       "      <td>2300</td>\n",
       "      <td>2015-09-19</td>\n",
       "      <td>pip fruit</td>\n",
       "      <td>2015</td>\n",
       "      <td>9</td>\n",
       "      <td>19</td>\n",
       "      <td>5</td>\n",
       "      <td>2300_2015-09-19</td>\n",
       "    </tr>\n",
       "    <tr>\n",
       "      <th>3</th>\n",
       "      <td>1187</td>\n",
       "      <td>2015-12-12</td>\n",
       "      <td>other vegetables</td>\n",
       "      <td>2015</td>\n",
       "      <td>12</td>\n",
       "      <td>12</td>\n",
       "      <td>5</td>\n",
       "      <td>1187_2015-12-12</td>\n",
       "    </tr>\n",
       "    <tr>\n",
       "      <th>4</th>\n",
       "      <td>3037</td>\n",
       "      <td>2015-02-01</td>\n",
       "      <td>whole milk</td>\n",
       "      <td>2015</td>\n",
       "      <td>2</td>\n",
       "      <td>1</td>\n",
       "      <td>6</td>\n",
       "      <td>3037_2015-02-01</td>\n",
       "    </tr>\n",
       "  </tbody>\n",
       "</table>\n",
       "</div>"
      ],
      "text/plain": [
       "   Member_number       Date   itemDescription  Year  Month  Day  Weekday  \\\n",
       "0           1808 2015-07-21    tropical fruit  2015      7   21        1   \n",
       "1           2552 2015-01-05        whole milk  2015      1    5        0   \n",
       "2           2300 2015-09-19         pip fruit  2015      9   19        5   \n",
       "3           1187 2015-12-12  other vegetables  2015     12   12        5   \n",
       "4           3037 2015-02-01        whole milk  2015      2    1        6   \n",
       "\n",
       "  single_transaction  \n",
       "0    1808_2015-07-21  \n",
       "1    2552_2015-01-05  \n",
       "2    2300_2015-09-19  \n",
       "3    1187_2015-12-12  \n",
       "4    3037_2015-02-01  "
      ]
     },
     "execution_count": 21,
     "metadata": {},
     "output_type": "execute_result"
    }
   ],
   "source": [
    "# Creating a unique identifier 'single_transaction' by combining 'Member_number' and 'Date'\n",
    "\n",
    "df['single_transaction'] = df['Member_number'].astype(str) + '_' + df['Date'].astype(str) #  deriving a uique transactions\n",
    "\n",
    "# Display thefirst five on the data frame \n",
    "df.head()\n"
   ]
  },
  {
   "cell_type": "code",
   "execution_count": 22,
   "id": "0b4510e9",
   "metadata": {},
   "outputs": [
    {
     "data": {
      "text/html": [
       "<div>\n",
       "<style scoped>\n",
       "    .dataframe tbody tr th:only-of-type {\n",
       "        vertical-align: middle;\n",
       "    }\n",
       "\n",
       "    .dataframe tbody tr th {\n",
       "        vertical-align: top;\n",
       "    }\n",
       "\n",
       "    .dataframe thead th {\n",
       "        text-align: right;\n",
       "    }\n",
       "</style>\n",
       "<table border=\"1\" class=\"dataframe\">\n",
       "  <thead>\n",
       "    <tr style=\"text-align: right;\">\n",
       "      <th>itemDescription</th>\n",
       "      <th>Instant food products</th>\n",
       "      <th>UHT-milk</th>\n",
       "      <th>abrasive cleaner</th>\n",
       "      <th>artif. sweetener</th>\n",
       "      <th>baby cosmetics</th>\n",
       "      <th>bags</th>\n",
       "      <th>baking powder</th>\n",
       "      <th>bathroom cleaner</th>\n",
       "      <th>beef</th>\n",
       "      <th>berries</th>\n",
       "      <th>...</th>\n",
       "      <th>turkey</th>\n",
       "      <th>vinegar</th>\n",
       "      <th>waffles</th>\n",
       "      <th>whipped/sour cream</th>\n",
       "      <th>whisky</th>\n",
       "      <th>white bread</th>\n",
       "      <th>white wine</th>\n",
       "      <th>whole milk</th>\n",
       "      <th>yogurt</th>\n",
       "      <th>zwieback</th>\n",
       "    </tr>\n",
       "    <tr>\n",
       "      <th>single_transaction</th>\n",
       "      <th></th>\n",
       "      <th></th>\n",
       "      <th></th>\n",
       "      <th></th>\n",
       "      <th></th>\n",
       "      <th></th>\n",
       "      <th></th>\n",
       "      <th></th>\n",
       "      <th></th>\n",
       "      <th></th>\n",
       "      <th></th>\n",
       "      <th></th>\n",
       "      <th></th>\n",
       "      <th></th>\n",
       "      <th></th>\n",
       "      <th></th>\n",
       "      <th></th>\n",
       "      <th></th>\n",
       "      <th></th>\n",
       "      <th></th>\n",
       "      <th></th>\n",
       "    </tr>\n",
       "  </thead>\n",
       "  <tbody>\n",
       "    <tr>\n",
       "      <th>1000_2014-06-24</th>\n",
       "      <td>0</td>\n",
       "      <td>0</td>\n",
       "      <td>0</td>\n",
       "      <td>0</td>\n",
       "      <td>0</td>\n",
       "      <td>0</td>\n",
       "      <td>0</td>\n",
       "      <td>0</td>\n",
       "      <td>0</td>\n",
       "      <td>0</td>\n",
       "      <td>...</td>\n",
       "      <td>0</td>\n",
       "      <td>0</td>\n",
       "      <td>0</td>\n",
       "      <td>0</td>\n",
       "      <td>0</td>\n",
       "      <td>0</td>\n",
       "      <td>0</td>\n",
       "      <td>1</td>\n",
       "      <td>0</td>\n",
       "      <td>0</td>\n",
       "    </tr>\n",
       "    <tr>\n",
       "      <th>1000_2015-03-15</th>\n",
       "      <td>0</td>\n",
       "      <td>0</td>\n",
       "      <td>0</td>\n",
       "      <td>0</td>\n",
       "      <td>0</td>\n",
       "      <td>0</td>\n",
       "      <td>0</td>\n",
       "      <td>0</td>\n",
       "      <td>0</td>\n",
       "      <td>0</td>\n",
       "      <td>...</td>\n",
       "      <td>0</td>\n",
       "      <td>0</td>\n",
       "      <td>0</td>\n",
       "      <td>0</td>\n",
       "      <td>0</td>\n",
       "      <td>0</td>\n",
       "      <td>0</td>\n",
       "      <td>1</td>\n",
       "      <td>1</td>\n",
       "      <td>0</td>\n",
       "    </tr>\n",
       "    <tr>\n",
       "      <th>1000_2015-05-27</th>\n",
       "      <td>0</td>\n",
       "      <td>0</td>\n",
       "      <td>0</td>\n",
       "      <td>0</td>\n",
       "      <td>0</td>\n",
       "      <td>0</td>\n",
       "      <td>0</td>\n",
       "      <td>0</td>\n",
       "      <td>0</td>\n",
       "      <td>0</td>\n",
       "      <td>...</td>\n",
       "      <td>0</td>\n",
       "      <td>0</td>\n",
       "      <td>0</td>\n",
       "      <td>0</td>\n",
       "      <td>0</td>\n",
       "      <td>0</td>\n",
       "      <td>0</td>\n",
       "      <td>0</td>\n",
       "      <td>0</td>\n",
       "      <td>0</td>\n",
       "    </tr>\n",
       "    <tr>\n",
       "      <th>1000_2015-07-24</th>\n",
       "      <td>0</td>\n",
       "      <td>0</td>\n",
       "      <td>0</td>\n",
       "      <td>0</td>\n",
       "      <td>0</td>\n",
       "      <td>0</td>\n",
       "      <td>0</td>\n",
       "      <td>0</td>\n",
       "      <td>0</td>\n",
       "      <td>0</td>\n",
       "      <td>...</td>\n",
       "      <td>0</td>\n",
       "      <td>0</td>\n",
       "      <td>0</td>\n",
       "      <td>0</td>\n",
       "      <td>0</td>\n",
       "      <td>0</td>\n",
       "      <td>0</td>\n",
       "      <td>0</td>\n",
       "      <td>0</td>\n",
       "      <td>0</td>\n",
       "    </tr>\n",
       "    <tr>\n",
       "      <th>1000_2015-11-25</th>\n",
       "      <td>0</td>\n",
       "      <td>0</td>\n",
       "      <td>0</td>\n",
       "      <td>0</td>\n",
       "      <td>0</td>\n",
       "      <td>0</td>\n",
       "      <td>0</td>\n",
       "      <td>0</td>\n",
       "      <td>0</td>\n",
       "      <td>0</td>\n",
       "      <td>...</td>\n",
       "      <td>0</td>\n",
       "      <td>0</td>\n",
       "      <td>0</td>\n",
       "      <td>0</td>\n",
       "      <td>0</td>\n",
       "      <td>0</td>\n",
       "      <td>0</td>\n",
       "      <td>0</td>\n",
       "      <td>0</td>\n",
       "      <td>0</td>\n",
       "    </tr>\n",
       "  </tbody>\n",
       "</table>\n",
       "<p>5 rows × 167 columns</p>\n",
       "</div>"
      ],
      "text/plain": [
       "itemDescription     Instant food products  UHT-milk  abrasive cleaner  \\\n",
       "single_transaction                                                      \n",
       "1000_2014-06-24                         0         0                 0   \n",
       "1000_2015-03-15                         0         0                 0   \n",
       "1000_2015-05-27                         0         0                 0   \n",
       "1000_2015-07-24                         0         0                 0   \n",
       "1000_2015-11-25                         0         0                 0   \n",
       "\n",
       "itemDescription     artif. sweetener  baby cosmetics  bags  baking powder  \\\n",
       "single_transaction                                                          \n",
       "1000_2014-06-24                    0               0     0              0   \n",
       "1000_2015-03-15                    0               0     0              0   \n",
       "1000_2015-05-27                    0               0     0              0   \n",
       "1000_2015-07-24                    0               0     0              0   \n",
       "1000_2015-11-25                    0               0     0              0   \n",
       "\n",
       "itemDescription     bathroom cleaner  beef  berries  ...  turkey  vinegar  \\\n",
       "single_transaction                                   ...                    \n",
       "1000_2014-06-24                    0     0        0  ...       0        0   \n",
       "1000_2015-03-15                    0     0        0  ...       0        0   \n",
       "1000_2015-05-27                    0     0        0  ...       0        0   \n",
       "1000_2015-07-24                    0     0        0  ...       0        0   \n",
       "1000_2015-11-25                    0     0        0  ...       0        0   \n",
       "\n",
       "itemDescription     waffles  whipped/sour cream  whisky  white bread  \\\n",
       "single_transaction                                                     \n",
       "1000_2014-06-24           0                   0       0            0   \n",
       "1000_2015-03-15           0                   0       0            0   \n",
       "1000_2015-05-27           0                   0       0            0   \n",
       "1000_2015-07-24           0                   0       0            0   \n",
       "1000_2015-11-25           0                   0       0            0   \n",
       "\n",
       "itemDescription     white wine  whole milk  yogurt  zwieback  \n",
       "single_transaction                                            \n",
       "1000_2014-06-24              0           1       0         0  \n",
       "1000_2015-03-15              0           1       1         0  \n",
       "1000_2015-05-27              0           0       0         0  \n",
       "1000_2015-07-24              0           0       0         0  \n",
       "1000_2015-11-25              0           0       0         0  \n",
       "\n",
       "[5 rows x 167 columns]"
      ]
     },
     "execution_count": 22,
     "metadata": {},
     "output_type": "execute_result"
    }
   ],
   "source": [
    "# Creating a cross-tabulation between 'single_transaction' and 'itemDescription'\n",
    "# This is to create a summary of how many times each item has been purchased in each unique transaction.\n",
    "df2 = pd.crosstab(df['single_transaction'], df['itemDescription'])\n",
    "\n",
    "# Display the first few rows \n",
    "df2.head()\n"
   ]
  },
  {
   "cell_type": "code",
   "execution_count": 23,
   "id": "e90ccff8",
   "metadata": {},
   "outputs": [
    {
     "name": "stderr",
     "output_type": "stream",
     "text": [
      "C:\\Users\\HAFEEZ~1\\AppData\\Local\\Temp/ipykernel_2196/594718243.py:3: SettingWithCopyWarning: \n",
      "A value is trying to be set on a copy of a slice from a DataFrame.\n",
      "Try using .loc[row_indexer,col_indexer] = value instead\n",
      "\n",
      "See the caveats in the documentation: https://pandas.pydata.org/pandas-docs/stable/user_guide/indexing.html#returning-a-view-versus-a-copy\n",
      "  basket['Date'] = pd.to_datetime(basket['Date'])  # Convert 'Date' column to datetime format\n",
      "C:\\Users\\HAFEEZ~1\\AppData\\Local\\Temp/ipykernel_2196/594718243.py:4: SettingWithCopyWarning: \n",
      "A value is trying to be set on a copy of a slice from a DataFrame.\n",
      "Try using .loc[row_indexer,col_indexer] = value instead\n",
      "\n",
      "See the caveats in the documentation: https://pandas.pydata.org/pandas-docs/stable/user_guide/indexing.html#returning-a-view-versus-a-copy\n",
      "  basket['Transaction_ID'] = basket.groupby('Member_number').cumcount() + 1  # Create a transaction ID\n"
     ]
    },
    {
     "name": "stdout",
     "output_type": "stream",
     "text": [
      "                                              Date                            \\\n",
      "itemDescription              Instant food products UHT-milk abrasive cleaner   \n",
      "Member_number Transaction_ID                                                   \n",
      "1000          1                                  0        0                0   \n",
      "              2                                  0        0                0   \n",
      "              3                                  0        0                0   \n",
      "              4                                  0        0                0   \n",
      "              5                                  0        0                0   \n",
      "\n",
      "                                                                   \\\n",
      "itemDescription              artif. sweetener baby cosmetics bags   \n",
      "Member_number Transaction_ID                                        \n",
      "1000          1                             0              0    0   \n",
      "              2                             0              0    0   \n",
      "              3                             0              0    0   \n",
      "              4                             0              0    0   \n",
      "              5                             0              0    0   \n",
      "\n",
      "                                                                          ...  \\\n",
      "itemDescription              baking powder bathroom cleaner beef berries  ...   \n",
      "Member_number Transaction_ID                                              ...   \n",
      "1000          1                          0                0    0       0  ...   \n",
      "              2                          0                0    0       0  ...   \n",
      "              3                          0                0    0       0  ...   \n",
      "              4                          0                0    0       0  ...   \n",
      "              5                          0                0    0       0  ...   \n",
      "\n",
      "                                                                               \\\n",
      "itemDescription              turkey vinegar waffles whipped/sour cream whisky   \n",
      "Member_number Transaction_ID                                                    \n",
      "1000          1                   0       0       0                  0      0   \n",
      "              2                   0       0       0                  0      0   \n",
      "              3                   0       0       0                  0      0   \n",
      "              4                   0       0       0                  0      0   \n",
      "              5                   0       0       0                  0      0   \n",
      "\n",
      "                                                                                \n",
      "itemDescription              white bread white wine whole milk yogurt zwieback  \n",
      "Member_number Transaction_ID                                                    \n",
      "1000          1                        0          0          0      0        0  \n",
      "              2                        0          0          0      0        0  \n",
      "              3                        0          0          0      0        0  \n",
      "              4                        0          0          0      0        0  \n",
      "              5                        0          0          1      0        0  \n",
      "\n",
      "[5 rows x 167 columns]\n"
     ]
    }
   ],
   "source": [
    "#Converting transactions into a format suitable for Apriori algorithm\n",
    "basket = df[['Member_number', 'Date', 'itemDescription']]  # Subset relevant columns\n",
    "basket['Date'] = pd.to_datetime(basket['Date'])  # Convert 'Date' column to datetime format\n",
    "basket['Transaction_ID'] = basket.groupby('Member_number').cumcount() + 1  # Create a transaction ID\n",
    "\n",
    "# Pivoting table to create transactional data suitable for Apriori algorithm\n",
    "basket = basket.pivot_table(index=['Member_number', 'Transaction_ID'], columns='itemDescription', \n",
    "                            aggfunc=lambda x: 1 if len(x) > 0 else 0, fill_value=0)\n",
    "\n",
    "# Display the first few rows of the transaction data\n",
    "print(basket.head())\n"
   ]
  },
  {
   "cell_type": "code",
   "execution_count": 25,
   "id": "c780d3d4",
   "metadata": {},
   "outputs": [],
   "source": [
    "# Defining a function to encode item frequencies for Apriori algorithm\n",
    "def encode(item_freq):\n",
    "    \"\"\"\n",
    "    Encode item frequencies for Apriori algorithm.\n",
    "    \n",
    "    Parameters:\n",
    "        item_freq (int): The frequency of an item in a transaction.\n",
    "    \n",
    "    Returns:\n",
    "        int: Binary encoding (1 if frequency > 0, 0 otherwise).\n",
    "    \"\"\"\n",
    "    # Initializing the result as 0\n",
    "    res = 0\n",
    "    # Set to 1 if the item is present in the transaction\n",
    "    if item_freq > 0:\n",
    "        res = 1\n",
    "    return res\n",
    "\n",
    "# Apply the encoding function to each entry in the DataFrame\n",
    "basket_input = df2.applymap(encode)\n"
   ]
  },
  {
   "cell_type": "markdown",
   "id": "16a1723b",
   "metadata": {},
   "source": [
    "#### Applying Apriori Algorithm"
   ]
  },
  {
   "cell_type": "code",
   "execution_count": 26,
   "id": "dff7c5cc",
   "metadata": {},
   "outputs": [
    {
     "name": "stderr",
     "output_type": "stream",
     "text": [
      "C:\\Users\\HAFEEZAH SANUSI IGE\\anaconda3\\lib\\site-packages\\mlxtend\\frequent_patterns\\fpcommon.py:110: DeprecationWarning: DataFrames with non-bool types result in worse computationalperformance and their support might be discontinued in the future.Please use a DataFrame with bool type\n",
      "  warnings.warn(\n"
     ]
    },
    {
     "data": {
      "text/html": [
       "<div>\n",
       "<style scoped>\n",
       "    .dataframe tbody tr th:only-of-type {\n",
       "        vertical-align: middle;\n",
       "    }\n",
       "\n",
       "    .dataframe tbody tr th {\n",
       "        vertical-align: top;\n",
       "    }\n",
       "\n",
       "    .dataframe thead th {\n",
       "        text-align: right;\n",
       "    }\n",
       "</style>\n",
       "<table border=\"1\" class=\"dataframe\">\n",
       "  <thead>\n",
       "    <tr style=\"text-align: right;\">\n",
       "      <th></th>\n",
       "      <th>antecedents</th>\n",
       "      <th>consequents</th>\n",
       "      <th>antecedent support</th>\n",
       "      <th>consequent support</th>\n",
       "      <th>support</th>\n",
       "      <th>confidence</th>\n",
       "      <th>lift</th>\n",
       "      <th>leverage</th>\n",
       "      <th>conviction</th>\n",
       "      <th>zhangs_metric</th>\n",
       "    </tr>\n",
       "  </thead>\n",
       "  <tbody>\n",
       "    <tr>\n",
       "      <th>0</th>\n",
       "      <td>(rolls/buns)</td>\n",
       "      <td>(whole milk)</td>\n",
       "      <td>0.110005</td>\n",
       "      <td>0.157923</td>\n",
       "      <td>0.013968</td>\n",
       "      <td>0.126974</td>\n",
       "      <td>0.804028</td>\n",
       "      <td>-0.003404</td>\n",
       "      <td>0.964550</td>\n",
       "      <td>-0.214986</td>\n",
       "    </tr>\n",
       "    <tr>\n",
       "      <th>1</th>\n",
       "      <td>(whole milk)</td>\n",
       "      <td>(rolls/buns)</td>\n",
       "      <td>0.157923</td>\n",
       "      <td>0.110005</td>\n",
       "      <td>0.013968</td>\n",
       "      <td>0.088447</td>\n",
       "      <td>0.804028</td>\n",
       "      <td>-0.003404</td>\n",
       "      <td>0.976350</td>\n",
       "      <td>-0.224474</td>\n",
       "    </tr>\n",
       "    <tr>\n",
       "      <th>2</th>\n",
       "      <td>(yogurt)</td>\n",
       "      <td>(whole milk)</td>\n",
       "      <td>0.085879</td>\n",
       "      <td>0.157923</td>\n",
       "      <td>0.011161</td>\n",
       "      <td>0.129961</td>\n",
       "      <td>0.822940</td>\n",
       "      <td>-0.002401</td>\n",
       "      <td>0.967861</td>\n",
       "      <td>-0.190525</td>\n",
       "    </tr>\n",
       "    <tr>\n",
       "      <th>3</th>\n",
       "      <td>(whole milk)</td>\n",
       "      <td>(yogurt)</td>\n",
       "      <td>0.157923</td>\n",
       "      <td>0.085879</td>\n",
       "      <td>0.011161</td>\n",
       "      <td>0.070673</td>\n",
       "      <td>0.822940</td>\n",
       "      <td>-0.002401</td>\n",
       "      <td>0.983638</td>\n",
       "      <td>-0.203508</td>\n",
       "    </tr>\n",
       "  </tbody>\n",
       "</table>\n",
       "</div>"
      ],
      "text/plain": [
       "    antecedents   consequents  antecedent support  consequent support  \\\n",
       "0  (rolls/buns)  (whole milk)            0.110005            0.157923   \n",
       "1  (whole milk)  (rolls/buns)            0.157923            0.110005   \n",
       "2      (yogurt)  (whole milk)            0.085879            0.157923   \n",
       "3  (whole milk)      (yogurt)            0.157923            0.085879   \n",
       "\n",
       "    support  confidence      lift  leverage  conviction  zhangs_metric  \n",
       "0  0.013968    0.126974  0.804028 -0.003404    0.964550      -0.214986  \n",
       "1  0.013968    0.088447  0.804028 -0.003404    0.976350      -0.224474  \n",
       "2  0.011161    0.129961  0.822940 -0.002401    0.967861      -0.190525  \n",
       "3  0.011161    0.070673  0.822940 -0.002401    0.983638      -0.203508  "
      ]
     },
     "execution_count": 26,
     "metadata": {},
     "output_type": "execute_result"
    }
   ],
   "source": [
    "# Applying Apriori algorithm to find frequent itemsets\n",
    "frequent_itemsets = apriori(basket_input, min_support=0.01, use_colnames=True)\n",
    "\n",
    "# Generating association rules based on frequent itemsets\n",
    "rules = association_rules(frequent_itemsets, metric=\"lift\")\n",
    "\n",
    "# Displaying the first few rows\n",
    "rules.head()\n"
   ]
  },
  {
   "cell_type": "code",
   "execution_count": 30,
   "id": "20049223",
   "metadata": {},
   "outputs": [
    {
     "data": {
      "text/html": [
       "<div>\n",
       "<style scoped>\n",
       "    .dataframe tbody tr th:only-of-type {\n",
       "        vertical-align: middle;\n",
       "    }\n",
       "\n",
       "    .dataframe tbody tr th {\n",
       "        vertical-align: top;\n",
       "    }\n",
       "\n",
       "    .dataframe thead th {\n",
       "        text-align: right;\n",
       "    }\n",
       "</style>\n",
       "<table border=\"1\" class=\"dataframe\">\n",
       "  <thead>\n",
       "    <tr style=\"text-align: right;\">\n",
       "      <th></th>\n",
       "      <th>antecedents</th>\n",
       "      <th>consequents</th>\n",
       "      <th>antecedent support</th>\n",
       "      <th>consequent support</th>\n",
       "      <th>support</th>\n",
       "      <th>confidence</th>\n",
       "      <th>lift</th>\n",
       "      <th>leverage</th>\n",
       "      <th>conviction</th>\n",
       "      <th>zhangs_metric</th>\n",
       "    </tr>\n",
       "  </thead>\n",
       "  <tbody>\n",
       "    <tr>\n",
       "      <th>0</th>\n",
       "      <td>(rolls/buns)</td>\n",
       "      <td>(whole milk)</td>\n",
       "      <td>0.110005</td>\n",
       "      <td>0.157923</td>\n",
       "      <td>0.013968</td>\n",
       "      <td>0.126974</td>\n",
       "      <td>0.804028</td>\n",
       "      <td>-0.003404</td>\n",
       "      <td>0.964550</td>\n",
       "      <td>-0.214986</td>\n",
       "    </tr>\n",
       "    <tr>\n",
       "      <th>1</th>\n",
       "      <td>(whole milk)</td>\n",
       "      <td>(rolls/buns)</td>\n",
       "      <td>0.157923</td>\n",
       "      <td>0.110005</td>\n",
       "      <td>0.013968</td>\n",
       "      <td>0.088447</td>\n",
       "      <td>0.804028</td>\n",
       "      <td>-0.003404</td>\n",
       "      <td>0.976350</td>\n",
       "      <td>-0.224474</td>\n",
       "    </tr>\n",
       "    <tr>\n",
       "      <th>2</th>\n",
       "      <td>(yogurt)</td>\n",
       "      <td>(whole milk)</td>\n",
       "      <td>0.085879</td>\n",
       "      <td>0.157923</td>\n",
       "      <td>0.011161</td>\n",
       "      <td>0.129961</td>\n",
       "      <td>0.822940</td>\n",
       "      <td>-0.002401</td>\n",
       "      <td>0.967861</td>\n",
       "      <td>-0.190525</td>\n",
       "    </tr>\n",
       "    <tr>\n",
       "      <th>3</th>\n",
       "      <td>(whole milk)</td>\n",
       "      <td>(yogurt)</td>\n",
       "      <td>0.157923</td>\n",
       "      <td>0.085879</td>\n",
       "      <td>0.011161</td>\n",
       "      <td>0.070673</td>\n",
       "      <td>0.822940</td>\n",
       "      <td>-0.002401</td>\n",
       "      <td>0.983638</td>\n",
       "      <td>-0.203508</td>\n",
       "    </tr>\n",
       "  </tbody>\n",
       "</table>\n",
       "</div>"
      ],
      "text/plain": [
       "    antecedents   consequents  antecedent support  consequent support  \\\n",
       "0  (rolls/buns)  (whole milk)            0.110005            0.157923   \n",
       "1  (whole milk)  (rolls/buns)            0.157923            0.110005   \n",
       "2      (yogurt)  (whole milk)            0.085879            0.157923   \n",
       "3  (whole milk)      (yogurt)            0.157923            0.085879   \n",
       "\n",
       "    support  confidence      lift  leverage  conviction  zhangs_metric  \n",
       "0  0.013968    0.126974  0.804028 -0.003404    0.964550      -0.214986  \n",
       "1  0.013968    0.088447  0.804028 -0.003404    0.976350      -0.224474  \n",
       "2  0.011161    0.129961  0.822940 -0.002401    0.967861      -0.190525  \n",
       "3  0.011161    0.070673  0.822940 -0.002401    0.983638      -0.203508  "
      ]
     },
     "execution_count": 30,
     "metadata": {},
     "output_type": "execute_result"
    }
   ],
   "source": [
    "# Sorting the generated association rules by support, confidence, and lift in descending order\n",
    "sorted_rules = rules.sort_values([\"support\", \"confidence\", \"lift\"], axis=0, ascending=False)\n",
    "\n",
    "# This displays the top rules based on support, confidence, and lift\n",
    "sorted_rules.head()\n"
   ]
  },
  {
   "cell_type": "markdown",
   "id": "da24b576",
   "metadata": {},
   "source": [
    "**Customers who buy \"whole milk\" are likely to buy \"rolls/buns,\" and vice versa. \n",
    "This shows that the association is stronger than random chance.\n",
    "Also,\n",
    "There is an association between buying \"whole milk\" and buying \"yogurt.\" \n",
    "This association is also stronger than random chance.**\n"
   ]
  },
  {
   "cell_type": "markdown",
   "id": "e297ed22",
   "metadata": {},
   "source": [
    "# 7. Visualizations"
   ]
  },
  {
   "cell_type": "markdown",
   "id": "51ff463f",
   "metadata": {},
   "source": [
    " ###### Analyzing and Visualizing Association Rules"
   ]
  },
  {
   "cell_type": "code",
   "execution_count": 34,
   "id": "4dd13509",
   "metadata": {},
   "outputs": [
    {
     "data": {
      "image/png": "[encoded data removed]",
      "text/plain": [
       "<Figure size 1296x432 with 3 Axes>"
      ]
     },
     "metadata": {},
     "output_type": "display_data"
    }
   ],
   "source": [
    "# Set the style for the plots\n",
    "sns.set(style=\"whitegrid\")\n",
    "\n",
    "# Plotting the Support, Confidence, and Lift of the association rules\n",
    "fig, axes = plt.subplots(nrows=1, ncols=3, figsize=(18, 6))\n",
    "\n",
    "# Support\n",
    "sns.barplot(x=rules.index, y=rules['support'], ax=axes[0], palette=\"viridis\")\n",
    "axes[0].set_title('Support of Association Rules')\n",
    "\n",
    "# Confidence\n",
    "sns.barplot(x=rules.index, y=rules['confidence'], ax=axes[1], palette=\"viridis\")\n",
    "axes[1].set_title('Confidence of Association Rules')\n",
    "\n",
    "# Lift\n",
    "sns.barplot(x=rules.index, y=rules['lift'], ax=axes[2], palette=\"viridis\")\n",
    "axes[2].set_title('Lift of Association Rules')\n",
    "\n",
    "plt.tight_layout()\n",
    "plt.show()\n"
   ]
  },
  {
   "cell_type": "markdown",
   "id": "ff4079fa",
   "metadata": {},
   "source": [
    "**These plots provide insights into the relationships between items in transactions. For example, a high confidence and lift value between 'rolls/buns' and 'whole milk' indicate a strong association, suggesting that customers often buy these items together.**"
   ]
  },
  {
   "cell_type": "code",
   "execution_count": 27,
   "id": "4bb15358",
   "metadata": {
    "scrolled": true
   },
   "outputs": [
    {
     "data": {
      "image/png": "[encoded data removed]",
      "text/plain": [
       "<Figure size 864x576 with 1 Axes>"
      ]
     },
     "metadata": {},
     "output_type": "display_data"
    }
   ],
   "source": [
    "# Create a directed graph\n",
    "G = nx.DiGraph()\n",
    "\n",
    "# Add edges and nodes to the graph\n",
    "for idx, row in rules.iterrows():\n",
    "    G.add_edge(row['antecedents'], row['consequents'], weight=row['lift'])\n",
    "\n",
    "# Define positions for nodes in the graph\n",
    "pos = nx.spring_layout(G)\n",
    "\n",
    "# Draw the graph\n",
    "plt.figure(figsize=(12, 8))\n",
    "nx.draw(G, pos, with_labels=True, font_size=10, font_color=\"black\", font_weight=\"bold\", node_size=2000, node_color=\"skyblue\", edge_color=\"gray\", linewidths=0.5, alpha=0.7)\n",
    "\n",
    "# Add labels for edges\n",
    "labels = nx.get_edge_attributes(G, 'weight')\n",
    "nx.draw_networkx_edge_labels(G, pos, edge_labels=labels)\n",
    "\n",
    "plt.title(\"Association Rules Network Diagram\")\n",
    "plt.show()\n"
   ]
  },
  {
   "cell_type": "markdown",
   "id": "37842e12",
   "metadata": {},
   "source": [
    "**This means that the purchase of 'yogurt' is associated with the purchase of 'whole milk', which, in turn, is associated with the purchase of 'rolls/buns'.**"
   ]
  },
  {
   "cell_type": "code",
   "execution_count": null,
   "id": "112881e3",
   "metadata": {
    "scrolled": true
   },
   "outputs": [],
   "source": []
  },
  {
   "cell_type": "code",
   "execution_count": null,
   "id": "8be0331c",
   "metadata": {},
   "outputs": [],
   "source": []
  },
  {
   "cell_type": "code",
   "execution_count": 32,
   "id": "6c20fac6",
   "metadata": {},
   "outputs": [
    {
     "data": {
      "image/png": "[encoded data removed]",
      "text/plain": [
       "<Figure size 864x576 with 2 Axes>"
      ]
     },
     "metadata": {},
     "output_type": "display_data"
    }
   ],
   "source": [
    "import seaborn as sns\n",
    "import matplotlib.pyplot as plt\n",
    "\n",
    "# Pivot the rules DataFrame for a heatmap\n",
    "pivot_table = rules.pivot(index='antecedents', columns='consequents', values='support')\n",
    "\n",
    "# Plot a heatmap\n",
    "plt.figure(figsize=(12, 8))\n",
    "sns.heatmap(pivot_table, annot=True, cmap='YlGnBu', fmt='.3f')\n",
    "plt.title('Heatmap of Product Associations (Support)')\n",
    "plt.xlabel('Consequents')\n",
    "plt.ylabel('Antecedents')\n",
    "plt.show()\n"
   ]
  },
  {
   "cell_type": "markdown",
   "id": "acf01c32",
   "metadata": {},
   "source": [
    "# 8. Insights\n"
   ]
  },
  {
   "cell_type": "markdown",
   "id": "0b8dcea4",
   "metadata": {},
   "source": [
    "**Based on the analysis and visualizations of the market basket data, several insights can be derived:\n",
    "\n",
    "1. *Top Associated Products:*\n",
    "The bar charts and network diagram reveal the top associated products based on support, confidence, and lift. For example, \"rolls/buns\" and \"whole milk\" are frequently bought together.\n",
    "2. Association Rules Heatmap:\n",
    "The heatmap provides a comprehensive view of support values for different product combinations. Darker cells indicate stronger associations,Showing that \"rolls/buns\" and \"whole milk\" are frequently bought together and has strong association\n",
    "3. Sequence of Purchases:\n",
    "Identification of sequential purchasing patterns from the graph has shown that from the association 'yogurt' --> 'whole milk' --> 'rolls/buns', it's observed that customers who buy 'yogurt' tend to buy 'whole milk', followed by 'rolls/buns'. This sequence might suggest common purchasing behavior or potential product combinations."
   ]
  },
  {
   "cell_type": "markdown",
   "id": "0908dd2b",
   "metadata": {},
   "source": [
    "# 9. Recommendations"
   ]
  },
  {
   "cell_type": "markdown",
   "id": "4e0eeba2",
   "metadata": {},
   "source": [
    "**Based on the insights derived from the provided dataset, here are specific recommendations for the E-commerce company. The Utilization of these insights for marketing strategies, shelf placement, product bundling, or targeted promotions. For instance, based on the association rules, promoting 'rolls/buns' to customers purchasing 'yogurt' and 'whole milk' might enhance sales or cross-selling opportunities.\n",
    "Place \"rolls/buns\" and \"whole milk\" in close proximity within the store, as they are frequently purchased together. Consider creating a designated section for common product pairs to optimize customer convenience. Others include:**\n",
    "\n",
    "1. Strategic Product Placement:\n",
    "During the holiday season (e.g., December), launch promotions for products like \"bags and baby makeup\" to capitalize on the identified seasonal trend and increase sales during festive periods.\n",
    "2. Cross-Selling Opportunities:\n",
    "Implement cross-selling strategies by offering promotions or discounts for purchasing combinations like \"whole milk\" and \"rolls/buns.\" Leverage the strong associations to drive additional sales.\n",
    "3. Targeted Marketing Campaigns:\n",
    "Design targeted marketing campaigns that showcase popular product combinations identified in the analysis. Utilize advertising channels to promote associated products together and attract customer attention.\n",
    "4. Customer Segmentation:\n",
    "Explore customer segmentation based on purchasing behavior. Identify different customer groups, such as those who prefer seasonal items or specific product combinations, and tailor marketing strategies accordingly."
   ]
  },
  {
   "cell_type": "code",
   "execution_count": null,
   "id": "afec3cd7",
   "metadata": {},
   "outputs": [],
   "source": []
  }
 ],
 "metadata": {
  "kernelspec": {
   "display_name": "Python 3 (ipykernel)",
   "language": "python",
   "name": "python3"
  },
  "language_info": {
   "codemirror_mode": {
    "name": "ipython",
    "version": 3
   },
   "file_extension": ".py",
   "mimetype": "text/x-python",
   "name": "python",
   "nbconvert_exporter": "python",
   "pygments_lexer": "ipython3",
   "version": "3.9.7"
  }
 },
 "nbformat": 4,
 "nbformat_minor": 5
}
